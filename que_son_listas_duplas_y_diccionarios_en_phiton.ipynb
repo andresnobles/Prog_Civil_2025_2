{
  "cells": [
    {
      "cell_type": "markdown",
      "metadata": {
        "id": "view-in-github",
        "colab_type": "text"
      },
      "source": [
        "<a href=\"https://colab.research.google.com/github/andresnobles/Prog_Civil_2025_2/blob/main/que_son_listas_duplas_y_diccionarios_en_phiton.ipynb\" target=\"_parent\"><img src=\"https://colab.research.google.com/assets/colab-badge.svg\" alt=\"Open In Colab\"/></a>"
      ]
    },
    {
      "cell_type": "markdown",
      "source": [
        "Una **lista**, una **tupla** y un **diccionario** son tipos de datos fundamentales en Python para almacenar colecciones de elementos. La principal diferencia entre ellos radica en su **mutabilidad** (si se pueden cambiar después de crearse) y en cómo se accede a sus elementos.\n",
        "\n",
        "-----\n",
        "\n",
        "### Listas 📝\n",
        "\n",
        "Las **listas** son colecciones **ordenadas** y **mutables** de elementos. Esto significa que puedes modificar, añadir o eliminar elementos después de que la lista se ha creado. Se definen con **corchetes `[]`**.\n",
        "\n",
        "**Características clave:**\n",
        "\n",
        "  * **Mutables:** Se pueden cambiar.\n",
        "  * **Ordenadas:** Los elementos tienen un orden definido y se puede acceder a ellos por su índice (empezando en 0).\n",
        "  * **Permiten duplicados:** Pueden contener elementos idénticos.\n",
        "\n",
        "**Ejemplo:**"
      ],
      "metadata": {
        "id": "N_NfQneFPIQM"
      }
    },
    {
      "cell_type": "code",
      "source": [
        "mi_lista = [\"manzana\", \"banana\", \"cereza\"]\n",
        "mi_lista.append(\"naranja\")  # Agrega un elemento\n",
        "mi_lista[0] = \"uva\"        # Modifica un elemento\n",
        "print(mi_lista)\n",
        "# Salida: ['uva', 'banana', 'cereza', 'naranja']"
      ],
      "outputs": [],
      "execution_count": null,
      "metadata": {
        "id": "PofarQtMPIQR"
      }
    },
    {
      "cell_type": "markdown",
      "source": [
        "-----\n",
        "\n",
        "### Tuplas 🛑\n",
        "\n",
        "Las **tuplas** son colecciones **ordenadas** e **inmutables**. Una vez que se crea una tupla, no se pueden cambiar sus elementos. Se definen con **paréntesis `()`**.\n",
        "\n",
        "**Características clave:**\n",
        "\n",
        "  * **Inmutables:** No se pueden cambiar. Esto las hace más rápidas y seguras para datos que no deben modificarse.\n",
        "  * **Ordenadas:** Similar a las listas, los elementos tienen un orden y se accede a ellos por su índice.\n",
        "  * **Permiten duplicados:** Pueden contener elementos idénticos.\n",
        "\n",
        "**Ejemplo:**"
      ],
      "metadata": {
        "id": "6Cfq3drWPIQS"
      }
    },
    {
      "cell_type": "code",
      "source": [
        "mi_tupla = (\"manzana\", \"banana\", \"cereza\")\n",
        "# Esto daría un error: mi_tupla[0] = \"uva\"\n",
        "print(mi_tupla[1])\n",
        "# Salida: banana"
      ],
      "outputs": [],
      "execution_count": null,
      "metadata": {
        "id": "76iwITIhPIQS"
      }
    },
    {
      "cell_type": "markdown",
      "source": [
        "-----\n",
        "\n",
        "### Diccionarios 📚\n",
        "\n",
        "Los **diccionarios** son colecciones **no ordenadas** y **mutables** de pares **clave-valor**. En lugar de usar índices numéricos, accedes a los elementos usando sus claves, que deben ser únicas. Se definen con **llaves `{}`**.\n",
        "\n",
        "**Características clave:**\n",
        "\n",
        "  * **Mutables:** Se pueden cambiar, añadir o eliminar pares clave-valor.\n",
        "  * **No ordenados:** (en versiones de Python anteriores a 3.7) Los elementos no tienen un orden definido. En Python 3.7 y posteriores, los diccionarios conservan el orden de inserción.\n",
        "  * **Pares clave-valor:** Cada elemento se compone de una **clave** única y su **valor** asociado.\n",
        "  * **Claves únicas:** No puede haber dos claves iguales.\n",
        "\n",
        "**Ejemplo:**"
      ],
      "metadata": {
        "id": "xVAHNEPPPIQT"
      }
    },
    {
      "cell_type": "code",
      "source": [
        "mi_diccionario = {\n",
        "    \"marca\": \"Ford\",\n",
        "    \"modelo\": \"Mustang\",\n",
        "    \"año\": 1964\n",
        "}\n",
        "mi_diccionario[\"año\"] = 2020  # Modifica un valor\n",
        "mi_diccionario[\"color\"] = \"rojo\"  # Agrega un nuevo par\n",
        "print(mi_diccionario[\"modelo\"])\n",
        "# Salida: Mustang"
      ],
      "outputs": [],
      "execution_count": null,
      "metadata": {
        "id": "VHZLdk5hPIQT"
      }
    }
  ],
  "metadata": {
    "colab": {
      "provenance": [],
      "include_colab_link": true
    },
    "kernelspec": {
      "display_name": "Python 3",
      "name": "python3"
    }
  },
  "nbformat": 4,
  "nbformat_minor": 0
}