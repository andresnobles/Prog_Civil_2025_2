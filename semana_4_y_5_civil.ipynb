{
  "nbformat": 4,
  "nbformat_minor": 0,
  "metadata": {
    "colab": {
      "provenance": [],
      "authorship_tag": "ABX9TyPF9Tdy4wErf0Gon/20hJG6",
      "include_colab_link": true
    },
    "kernelspec": {
      "name": "python3",
      "display_name": "Python 3"
    },
    "language_info": {
      "name": "python"
    }
  },
  "cells": [
    {
      "cell_type": "markdown",
      "metadata": {
        "id": "view-in-github",
        "colab_type": "text"
      },
      "source": [
        "<a href=\"https://colab.research.google.com/github/andresnobles/Prog_Civil_2025_2/blob/main/semana_4_y_5_civil.ipynb\" target=\"_parent\"><img src=\"https://colab.research.google.com/assets/colab-badge.svg\" alt=\"Open In Colab\"/></a>"
      ]
    },
    {
      "cell_type": "markdown",
      "source": [
        "#Situación de Interés en Ingeniería Civil fi :\n",
        " Un ingeniero estructural necesita calcular el peso de diferentes elementos de una construcción (vigas, columnas). El programa debe tener una base de datos con las densidades de materiales comunes (acero, concreto, madera) y, a partir del tipo de material y el volumen del elemento, debe calcular su peso total.\n",
        "\n",
        " Caso de Ingeniería Civil: Calculadora de Peso Estructural (Diccionarios y Funciones)\n",
        "• Paso a Paso del Código:\n",
        "1. Crear un diccionario que funcione como una base de datos de densidades. La clave será el\n",
        "nombre del material y el valor será su densidad en kg/m³.\n",
        "2. Crear una función calcular_peso que reciba el diccionario de densidades, el nombre del material\n",
        "y su volumen.\n",
        "3. Dentro de la función, buscar la densidad del material en el diccionario.\n",
        "4. Si el material existe, calcular y devolver el peso (densidad * volumen). Si no, devolver un mensaje\n",
        "de error o None.\n",
        "5. En el programa principal, pedir al usuario el tipo de material y las dimensiones del elemento para\n",
        "calcular su volumen.\n",
        "6. Llamar a la función calcular_peso y mostrar el resultado.\n"
      ],
      "metadata": {
        "id": "j0SGGYjGR4w-"
      }
    },
    {
      "cell_type": "code",
      "source": [
        "# Situación de Interés en Ingeniería Civil: Un ingeniero estructural necesita calcular el peso de diferentes elementos de una construcción (vigas, columnas). El programa debe tener una base de datos con las densidades de materiales comunes (acero, concreto, madera) y, a partir del tipo de material y el volumen del elemento, debe calcular su peso total.\n",
        "\n",
        "# Caso de Ingeniería Civil: Calculadora de Peso Estructural (Diccionarios y Funciones)\n",
        "# • Paso a Paso del Código:\n",
        "\n",
        "# 1. Crear un diccionario que funcione como una base de datos de densidades. La clave será el\n",
        "# nombre del material y el valor será su densidad en kg/m³.\n",
        "densidades = {\n",
        "    \"acero\": 7850,  # kg/m³\n",
        "    \"concreto\": 2400, # kg/m³\n",
        "    \"madera\": 700    # kg/m³ (esto puede variar mucho según el tipo de madera)\n",
        "}\n",
        "\n",
        "# 2. Crear una función calcular_peso que reciba el diccionario de densidades, el nombre del material\n",
        "# y su volumen.\n",
        "def calcular_peso(diccionario_densidades, material, volumen):\n",
        "    \"\"\"\n",
        "    Calcula el peso de un elemento estructural.\n",
        "\n",
        "    Args:\n",
        "        diccionario_densidades: Diccionario con las densidades de los materiales.\n",
        "        material: Nombre del material (string).\n",
        "        volumen: Volumen del elemento en m³ (float).\n",
        "\n",
        "    Returns:\n",
        "        El peso del elemento en kg (float) si el material existe, de lo contrario None.\n",
        "    \"\"\"\n",
        "    # 3. Dentro de la función, buscar la densidad del material en el diccionario.\n",
        "    if material.lower() in diccionario_densidades:\n",
        "        densidad = diccionario_densidades[material.lower()]\n",
        "        # 4. Si el material existe, calcular y devolver el peso (densidad * volumen). Si no, devolver un mensaje\n",
        "        # de error o None.\n",
        "        peso = densidad * volumen\n",
        "        return peso\n",
        "    else:\n",
        "        # Si no, devolver un mensaje de error o None\n",
        "        print(f\"Error: El material '{material}' no se encuentra en la base de datos.\")\n",
        "        return None\n",
        "\n",
        "# 5. En el programa principal, pedir al usuario el tipo de material y las dimensiones del elemento para\n",
        "# calcular su volumen.\n",
        "print(\"Calculadora de Peso Estructural\")\n",
        "print(\"Materiales disponibles:\", list(densidades.keys()))\n",
        "\n",
        "material_elemento = input(\"Introduce el tipo de material: \")\n",
        "\n",
        "try:\n",
        "    # Pedir dimensiones para calcular el volumen (ejemplo simple: forma cúbica o rectangular)\n",
        "    largo = float(input(\"Introduce el largo del elemento en metros (m): \"))\n",
        "    ancho = float(input(\"Introduce el ancho del elemento en metros (m): \"))\n",
        "    alto = float(input(\"Introduce el alto del elemento en metros (m): \"))\n",
        "\n",
        "    volumen_elemento = largo * ancho * alto\n",
        "\n",
        "    # 6. Llamar a la función calcular_peso y mostrar el resultado.\n",
        "    peso_calculado = calcular_peso(densidades, material_elemento, volumen_elemento)\n",
        "\n",
        "    if peso_calculado is not None:\n",
        "        print(f\"\\nEl peso del elemento de {material_elemento} con un volumen de {volumen_elemento:.2f} m³ es: {peso_calculado:.2f} kg\")\n",
        "\n",
        "except ValueError:\n",
        "    print(\"Error: Por favor, introduce valores numéricos válidos para las dimensiones.\")"
      ],
      "metadata": {
        "colab": {
          "base_uri": "https://localhost:8080/"
        },
        "id": "GhS6PjhYS9zk",
        "outputId": "55c25be3-875a-45c9-cf0c-f1cea9913b22"
      },
      "execution_count": null,
      "outputs": [
        {
          "output_type": "stream",
          "name": "stdout",
          "text": [
            "Calculadora de Peso Estructural\n",
            "Materiales disponibles: ['acero', 'concreto', 'madera']\n"
          ]
        }
      ]
    }
  ]
}